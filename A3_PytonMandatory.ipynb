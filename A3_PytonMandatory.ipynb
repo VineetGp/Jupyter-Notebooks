{
  "nbformat": 4,
  "nbformat_minor": 0,
  "metadata": {
    "colab": {
      "name": "A3- PytonMandatory.ipynb",
      "provenance": [],
      "collapsed_sections": [],
      "include_colab_link": true
    },
    "kernelspec": {
      "display_name": "Python 3",
      "language": "python",
      "name": "python3"
    },
    "language_info": {
      "codemirror_mode": {
        "name": "ipython",
        "version": 3
      },
      "file_extension": ".py",
      "mimetype": "text/x-python",
      "name": "python",
      "nbconvert_exporter": "python",
      "pygments_lexer": "ipython3",
      "version": "3.6.3"
    }
  },
  "cells": [
    {
      "cell_type": "markdown",
      "metadata": {
        "id": "view-in-github",
        "colab_type": "text"
      },
      "source": [
        "<a href=\"https://colab.research.google.com/github/VineetGp/Jupyter-Notebooks/blob/main/A3_PytonMandatory.ipynb\" target=\"_parent\"><img src=\"https://colab.research.google.com/assets/colab-badge.svg\" alt=\"Open In Colab\"/></a>"
      ]
    },
    {
      "cell_type": "markdown",
      "metadata": {
        "id": "l0ZzOlyxB-kf"
      },
      "source": [
        "<h1>Python: without numpy or sklearn </h1>"
      ]
    },
    {
      "cell_type": "markdown",
      "metadata": {
        "id": "C0xO8JV9B-ki"
      },
      "source": [
        "<h3> Q1: Given two matrices please print the product of those two matrices </h3>\n",
        "<pre>\n",
        "\n",
        "Ex 1: A   = [[1 3 4]\n",
        "             [2 5 7]\n",
        "             [5 9 6]]\n",
        "      B   = [[1 0 0]\n",
        "             [0 1 0]\n",
        "             [0 0 1]]\n",
        "      A*B = [[1 3 4]\n",
        "             [2 5 7]\n",
        "             [5 9 6]]\n",
        "\n",
        "     \n",
        "Ex 2: A   = [[1 2]\n",
        "             [3 4]]\n",
        "      B   = [[1 2 3 4 5]\n",
        "             [5 6 7 8 9]]\n",
        "      A*B = [[11 14 17 20 23]\n",
        "             [23 30 37 44 51]]\n",
        "             \n",
        "Ex 3: A   = [[1 2]\n",
        "             [3 4]]\n",
        "      B   = [[1 4]\n",
        "             [5 6]\n",
        "             [7 8]\n",
        "             [9 6]]\n",
        "      A*B =Not possible\n",
        "</pre>"
      ]
    },
    {
      "cell_type": "code",
      "metadata": {
        "id": "rnssAfpgB-kj",
        "colab": {
          "base_uri": "https://localhost:8080/"
        },
        "outputId": "9fa17ec9-843d-4b5e-ba60-81ece08d024d"
      },
      "source": [
        "def matrix_mul(A, B):\n",
        "    r1 = len(A)\n",
        "    c1 = len(A[0])\n",
        "    r2 = len(B)\n",
        "    c2 = len(B[0])\n",
        "    if(c1!=r2):\n",
        "      print('Not possible')\n",
        "      return 0\n",
        "    else:\n",
        "      r = []\n",
        "      for i in range(0,r1):\n",
        "        t = []\n",
        "        for j in range(0,c2):\n",
        "          temp = 0\n",
        "          for k in range(0,c1):\n",
        "            temp+= A[i][k]*B[k][j]\n",
        "          t.append(temp)\n",
        "        r.append(t)\n",
        "    return(r)\n",
        "A = [[1,3,4],[2,5,7],[5,9,6]] \n",
        "B = [[1,0,0],[0,1,0],[0,0,1]]\n",
        "r1 = matrix_mul(A, B)\n",
        "print(r1)\n",
        "\n",
        "A = [[1,2],[3,4]]\n",
        "B = [[1,4],[5,6],[7,8],[9,6]]\n",
        "r2 = matrix_mul(A, B)\n",
        "\n",
        "A = [[1,2],[3,4]]\n",
        "B = [[1,2,3,4,5],[5,6,7,8,9]]\n",
        "r2 = matrix_mul(A, B)\n",
        "print(r2)"
      ],
      "execution_count": null,
      "outputs": [
        {
          "output_type": "stream",
          "name": "stdout",
          "text": [
            "[[1, 3, 4], [2, 5, 7], [5, 9, 6]]\n",
            "Not possible\n",
            "[[11, 14, 17, 20, 23], [23, 30, 37, 44, 51]]\n"
          ]
        }
      ]
    },
    {
      "cell_type": "markdown",
      "metadata": {
        "id": "at4VwLggB-kn"
      },
      "source": [
        "<h3> Q2: Proportional Sampling - Select a number randomly with probability proportional to its magnitude from the given array of n elements</h3>\n",
        "\n",
        "Consider an experiment, selecting an element from the list A randomly with probability proportional to its magnitude.\n",
        "assume we are doing the same experiment for 100 times with replacement, in each experiment you will print a number that is selected randomly from A.\n",
        "\n",
        "<pre>\n",
        "Ex 1: A = [0 5 27 6 13 28 100 45 10 79]\n",
        "let f(x) denote the number of times x getting selected in 100 experiments.\n",
        "f(100) > f(79) > f(45) > f(28) > f(27) > f(13) > f(10) > f(6) > f(5) > f(0)\n",
        "</pre>"
      ]
    },
    {
      "cell_type": "code",
      "metadata": {
        "id": "B6S2dpBhB-kn",
        "colab": {
          "base_uri": "https://localhost:8080/"
        },
        "outputId": "7a95b245-2a5c-4d8b-dca7-84122ae6e09b"
      },
      "source": [
        "from random import uniform\n",
        "def normalize(a):\n",
        "  norm = []\n",
        "  s = sum(a)\n",
        "  for i in a:\n",
        "    norm.append(i/s)\n",
        "  return norm\n",
        "\n",
        "def cumsum(b):\n",
        "  c = []\n",
        "  for i in range(0,len(b)):\n",
        "    c.append(sum(b[0:int(i+1)]))\n",
        "  return c\n",
        "\n",
        "def pick_a_number_from_list(A):\n",
        "  norm = normalize(A)\n",
        "  cum = cumsum(norm)\n",
        "  num = uniform(0,1)\n",
        "  for i in range(0,len(cum)):\n",
        "    if(num>cum[i]):\n",
        "      continue\n",
        "    else:\n",
        "      return i \n",
        "\n",
        "def sampling_based_on_magnitude(a):\n",
        "    b = [0]*len(a)\n",
        "    result = list(map(list,zip(a,b)))\n",
        "    for i in range(0,1000):\n",
        "        index = pick_a_number_from_list(A)\n",
        "        result[index][1]+=1\n",
        "    r = sorted(result, key=lambda x:x[1], reverse=True)\n",
        "    c = [x[0] for x in r]\n",
        "    print(r)\n",
        "    print('f({0}) > f({1}) > f({2}) > f({3}) > f({4}) > f({5}) > f({6}) > f({7}) > f({8}) > f({9})'.format(*c))\n",
        "        \n",
        "A = [0 ,5 ,27 ,6 ,13 ,28 ,100 ,45 ,10 ,79]\n",
        "sampling_based_on_magnitude(A)"
      ],
      "execution_count": null,
      "outputs": [
        {
          "output_type": "stream",
          "name": "stdout",
          "text": [
            "[[100, 324], [79, 264], [45, 133], [28, 96], [27, 71], [13, 39], [10, 30], [6, 23], [5, 20], [0, 0]]\n",
            "f(100) > f(79) > f(45) > f(28) > f(27) > f(13) > f(10) > f(6) > f(5) > f(0)\n"
          ]
        }
      ]
    },
    {
      "cell_type": "markdown",
      "metadata": {
        "id": "D1xQy2WWB-kq"
      },
      "source": [
        "<h3> Q3: Replace the digits in the string with #</h3>\n",
        "\n",
        "consider a string that will have digits in that, we need to remove all the not digits and replace the digits with #\n",
        "<pre>\n",
        "Ex 1: A = 234                Output: ###\n",
        "Ex 2: A = a2b3c4             Output: ###\n",
        "Ex 3: A = abc                Output:   (empty string)\n",
        "Ex 5: A = #2a$#b%c%561#      Output: ####\n",
        "</pre>"
      ]
    },
    {
      "cell_type": "code",
      "metadata": {
        "id": "fxczi2jzB-kr",
        "colab": {
          "base_uri": "https://localhost:8080/"
        },
        "outputId": "a6ec1133-9a55-40b5-a31d-780ad574db91"
      },
      "source": [
        "\n",
        "def replace_digits(String):\n",
        "  s = []\n",
        "  for i in range(0,len(String)):\n",
        "    if(String[i].isnumeric()):\n",
        "      s.append('#')\n",
        "    else:\n",
        "      continue\n",
        "  r = ''.join(s)\n",
        "  return r \n",
        "a = '#2a$#b%c%561#'\n",
        "print(replace_digits(a))\n",
        "\n",
        "b = 'abc'\n",
        "print(replace_digits(b))\n",
        "\n",
        "c = '234'\n",
        "print(replace_digits(c))"
      ],
      "execution_count": null,
      "outputs": [
        {
          "output_type": "stream",
          "name": "stdout",
          "text": [
            "####\n",
            "\n",
            "###\n"
          ]
        }
      ]
    },
    {
      "cell_type": "markdown",
      "metadata": {
        "id": "j7h0Ywg7B-kw"
      },
      "source": [
        "<h3> Q4: Students marks dashboard</h3>\n",
        "\n",
        "consider the marks list of class students given two lists <br>\n",
        "Students = ['student1','student2','student3','student4','student5','student6','student7','student8','student9','student10'] <br>\n",
        "Marks = [45, 78, 12, 14, 48, 43, 45, 98, 22, 80] <br>\n",
        "from the above two lists the Student[0] got Marks[0],  Student[1] got Marks[1] and so on <br><br>\n",
        "your task is to print the name of students\n",
        "<strong>a. Who got top 5 ranks, in the descending order of marks</strong> <br>\n",
        "<strong>b. Who got least 5 ranks, in the increasing order of marks</strong><br>\n",
        "<strong>d. Who got marks between  &gt;25th percentile &lt;75th percentile, in the increasing order of marks</strong>\n",
        "\n",
        "<pre>\n",
        "Ex 1: \n",
        "Students=['student1','student2','student3','student4','student5','student6','student7','student8','student9','student10'] \n",
        "Marks = [45, 78, 12, 14, 48, 43, 47, 98, 22, 80]\n",
        "a. \n",
        "student8  98\n",
        "student10 80\n",
        "student2  78\n",
        "student5  48\n",
        "student7  47\n",
        "b.\n",
        "student3 12\n",
        "student4 14\n",
        "student9 22\n",
        "student6 43\n",
        "student1 45\n",
        "c.\n",
        "student9 22\n",
        "student6 43\n",
        "student1 45\n",
        "student7 47\n",
        "student5 48\n",
        "</pre>"
      ]
    },
    {
      "cell_type": "code",
      "metadata": {
        "id": "cxPJgItsB-kx",
        "colab": {
          "base_uri": "https://localhost:8080/"
        },
        "outputId": "3aad7611-f36f-40ba-920c-2e634d69166a"
      },
      "source": [
        "def median(l):\n",
        "  n = len(l)\n",
        "  if(n%2==0):\n",
        "    m = (l[int(n/2)-1]+l[int((n+2)/2)-1])/2\n",
        "  else:\n",
        "    m = l[int(n/2)]\n",
        "  return m\n",
        "\n",
        "def display_dash_board(students, marks):\n",
        "    a = zip(marks,students)\n",
        "    b = list(a)\n",
        "    c = sorted(b, reverse=True)\n",
        "    top_5_students = c[0:5]\n",
        "    d = sorted(b)\n",
        "    least_5_students = d[0:5]\n",
        "    n = len(marks)\n",
        "    marks.sort()\n",
        "    if(n%2==0):\n",
        "      q1 = median(marks[0:int(n/2)])\n",
        "      q3 = median(marks[int(n/2):])\n",
        "    else:\n",
        "      q1 = median(marks[0:int((n-1)/2)])\n",
        "      q3 = median(marks[int((n+1)/2):])\n",
        "\n",
        "    students_within_25_and_75 = []\n",
        "    for i in b:\n",
        "      if(i[0]>=q1 and i[0]<q3):\n",
        "        students_within_25_and_75.append(i)\n",
        "      else:\n",
        "        continue\n",
        "    students_within_25_and_75.sort()\n",
        "    return top_5_students, least_5_students, students_within_25_and_75\n",
        "\n",
        "def display(lst):\n",
        "  for i in lst:\n",
        "    print('{0}  {1}'.format(i[1],i[0]))\n",
        "\n",
        "students = ['student1','student2','student3','student4','student5','student6','student7','student8','student9','student10']\n",
        "marks = [45, 78, 12, 14, 48, 43, 45, 98, 22, 80]\n",
        "top_5_students, least_5_students, students_within_25_and_75 = display_dash_board(students, marks)\n",
        "print('a.')\n",
        "display(top_5_students)\n",
        "print('b.')\n",
        "display(least_5_students)\n",
        "print('c.')\n",
        "display(students_within_25_and_75)"
      ],
      "execution_count": null,
      "outputs": [
        {
          "output_type": "stream",
          "name": "stdout",
          "text": [
            "22 78\n",
            "a\n",
            "student8  98\n",
            "student10  80\n",
            "student2  78\n",
            "student5  48\n",
            "student7  45\n",
            "b\n",
            "student3  12\n",
            "student4  14\n",
            "student9  22\n",
            "student6  43\n",
            "student1  45\n",
            "c\n",
            "student9  22\n",
            "student6  43\n",
            "student1  45\n",
            "student7  45\n",
            "student5  48\n"
          ]
        }
      ]
    },
    {
      "cell_type": "markdown",
      "metadata": {
        "id": "qha0OhQHB-k1"
      },
      "source": [
        "<h3> Q5: Find the closest points</h3>\n",
        "\n",
        "Consider you have given n data points in the form of list of tuples like S=[(x1,y1),(x2,y2),(x3,y3),(x4,y4),(x5,y5),..,(xn,yn)] and a point P=(p,q) <br> Your task is to find 5 closest points(based on cosine distance) in S from P\n",
        "<br>Cosine distance between two points (x,y) and (p,q) is defind as $cos^{-1}(\\frac{(x\\cdot p+y\\cdot q)}{\\sqrt(x^2+y^2)\\cdot\\sqrt(p^2+q^2)})$\n",
        "<pre>\n",
        "Ex:\n",
        "\n",
        "S= [(1,2),(3,4),(-1,1),(6,-7),(0, 6),(-5,-8),(-1,-1),(6,0),(1,-1)]\n",
        "P= (3,-4)\n",
        "\n",
        "<img src='https://i.imgur.com/vyZZQGu.png' width=400>\n",
        "\n",
        "Output:\n",
        "(6,-7)\n",
        "(1,-1)\n",
        "(6,0)\n",
        "(-5,-8)\n",
        "(-1,-1)\n",
        "</pre>\n",
        " Hint - If you write the formula correctly you'll get the distance between points (6,-7) and (3,-4) = 0.065"
      ]
    },
    {
      "cell_type": "code",
      "metadata": {
        "id": "wA5I1g-2B-k2",
        "colab": {
          "base_uri": "https://localhost:8080/"
        },
        "outputId": "8751cf99-c31f-4e1c-f2e9-fc864dd8836c"
      },
      "source": [
        "import math\n",
        "def cosine_distance(point,a):\n",
        "  x = a[0]\n",
        "  y = a[1]\n",
        "  p = point[0]\n",
        "  q = point[1]\n",
        "  distance = math.acos(((x*p)+(y*q))/((math.sqrt(x**2+y**2))*(math.sqrt(p**2+q**2))))\n",
        "  return distance\n",
        "\n",
        "def closest_points_to_p(S, P):\n",
        "    d = []\n",
        "    for i in S:\n",
        "      d.append(cosine_distance(P,i))\n",
        "    a = zip(d,S)\n",
        "    b = list(a)\n",
        "    b.sort()\n",
        "    c = b[0:5]\n",
        "    closest_points = []\n",
        "    for i in c:\n",
        "      closest_points.append(i[1])\n",
        "    return closest_points \n",
        "\n",
        "S= [(1,2),(3,4),(-1,1),(6,-7),(0, 6),(-5,-8),(-1,-1),(6,0),(1,-1)]\n",
        "P= (3,-4)\n",
        "closest_points_to_p(S, P)\n",
        "points = closest_points_to_p(S, P)\n",
        "for i in points:\n",
        "  print(i)\n"
      ],
      "execution_count": null,
      "outputs": [
        {
          "output_type": "stream",
          "name": "stdout",
          "text": [
            "(6, -7)\n",
            "(1, -1)\n",
            "(6, 0)\n",
            "(-5, -8)\n",
            "(-1, -1)\n"
          ]
        }
      ]
    },
    {
      "cell_type": "markdown",
      "metadata": {
        "id": "-g11jeAiB-k5"
      },
      "source": [
        "<h3> Q6: Find Which line separates oranges and apples</h3>\n",
        "consider you have given two set of data points in the form of list of tuples like \n",
        "<pre>\n",
        "Red =[(R11,R12),(R21,R22),(R31,R32),(R41,R42),(R51,R52),..,(Rn1,Rn2)]\n",
        "Blue=[(B11,B12),(B21,B22),(B31,B32),(B41,B42),(B51,B52),..,(Bm1,Bm2)]\n",
        "</pre>\n",
        "and set of line equations(in the string formate, i.e list of strings)\n",
        "<pre>\n",
        "Lines = [a1x+b1y+c1,a2x+b2y+c2,a3x+b3y+c3,a4x+b4y+c4,..,K lines]\n",
        "Note: you need to string parsing here and get the coefficients of x,y and intercept\n",
        "</pre>\n",
        "your task is to for each line that is given print \"YES\"/\"NO\", you will print yes, if all the red points are one side of the line and blue points are other side of the line, otherwise no\n",
        "<pre>\n",
        "Ex:\n",
        "Red= [(1,1),(2,1),(4,2),(2,4), (-1,4)]\n",
        "Blue= [(-2,-1),(-1,-2),(-3,-2),(-3,-1),(1,-3)]\n",
        "Lines=[\"1x+1y+0\",\"1x-1y+0\",\"1x+0y-3\",\"0x+1y-0.5\"]\n",
        "<img src='https://i.imgur.com/mSnQW5K.png' width=400>\n",
        "\n",
        "Output:\n",
        "YES\n",
        "NO\n",
        "NO\n",
        "YES\n",
        "</pre>"
      ]
    },
    {
      "cell_type": "code",
      "metadata": {
        "id": "eRxExaTRB-k6",
        "colab": {
          "base_uri": "https://localhost:8080/"
        },
        "outputId": "95975f1b-f0de-440e-99ec-5958309d102a"
      },
      "source": [
        "def str_to_coeff(Lines):\n",
        "  coeff = []\n",
        "  for i in Lines:\n",
        "    temp = []\n",
        "    a = i.split('x')\n",
        "    temp.append(float(a[0]))\n",
        "    b = a[1].split('y')\n",
        "    temp.append(float(b[0]))\n",
        "    temp.append(float(b[1]))\n",
        "    coeff.append(temp)\n",
        "  return coeff\n",
        "\n",
        "def side(c,p):\n",
        "  a = (c[0]*p[0]) + (c[1]*p[1]) + (c[2])\n",
        "  if(a>0):\n",
        "    return 1\n",
        "  elif(a<0):\n",
        "    return -1\n",
        "  else:\n",
        "    return 0\n",
        "\n",
        "def i_am_the_one(red,blue,coeff):\n",
        "    r = []\n",
        "    for i in red:\n",
        "      r.append(side(coeff,i))\n",
        "    for i in range(1,len(r)):\n",
        "      if(r[0]==r[i]):\n",
        "        continue\n",
        "      else:\n",
        "        return 0\n",
        "    b = []\n",
        "    for i in blue:\n",
        "      b.append(side(coeff,i))\n",
        "    for i in range(1,len(b)):\n",
        "      if(b[0]==b[i]):\n",
        "        continue\n",
        "      else:\n",
        "        return 0\n",
        "    if(r[0]!=b[0]):\n",
        "      return 1\n",
        "    else:\n",
        "      return 0\n",
        "\n",
        "Red= [(1,1),(2,1),(4,2),(2,4), (-1,4)]\n",
        "Blue= [(-2,-1),(-1,-2),(-3,-2),(-3,-1),(1,-3)]\n",
        "Lines=[\"1x+1y+0\",\"1x-1y+0\",\"1x+0y-3\",\"0x+1y-0.5\"]\n",
        "l = str_to_coeff(Lines)\n",
        "\n",
        "for i in l:\n",
        "    result = i_am_the_one(Red, Blue, i)\n",
        "    if(result == 0):\n",
        "      print('No')\n",
        "    elif(result == 1):\n",
        "      print('Yes')\n",
        "    else:\n",
        "      print('Invalid')"
      ],
      "execution_count": null,
      "outputs": [
        {
          "output_type": "stream",
          "name": "stdout",
          "text": [
            "Yes\n",
            "No\n",
            "No\n",
            "Yes\n"
          ]
        }
      ]
    },
    {
      "cell_type": "markdown",
      "metadata": {
        "id": "9OBpURbNB-k9"
      },
      "source": [
        "<h3> Q7: Filling the missing values in the specified formate</h3>\n",
        "You will be given a string with digits and '\\_'(missing value) symbols you have to replace the '\\_' symbols as explained \n",
        "<pre>\n",
        "Ex 1: _, _, _, 24 ==> 24/4, 24/4, 24/4, 24/4 i.e we. have distributed the 24 equally to all 4 places <br>\n",
        "Ex 2: 40, _, _, _, 60 ==> (60+40)/5,(60+40)/5,(60+40)/5,(60+40)/5,(60+40)/5 ==> 20, 20, 20, 20, 20 i.e. the sum of (60+40) is distributed qually to all 5 places<br>\n",
        "Ex 3: 80, _, _, _, _  ==> 80/5,80/5,80/5,80/5,80/5 ==> 16, 16, 16, 16, 16 i.e. the 80 is distributed qually to all 5 missing values that are right to it<br>\n",
        "Ex 4: _, _, 30, _, _, _, 50, _, _  \n",
        "==> we will fill the missing values from left to right \n",
        "    a. first we will distribute the 30 to left two missing values (10, 10, 10, _, _, _, 50, _, _)\n",
        "    b. now distribute the sum (10+50) missing values in between (10, 10, 12, 12, 12, 12, 12, _, _) \n",
        "    c. now we will distribute 12 to right side missing values (10, 10, 12, 12, 12, 12, 4, 4, 4)\n",
        "</pre>\n",
        "for a given string with comma seprate values, which will have both missing values numbers like ex: \"_, _, x, _, _, _\"\n",
        "you need fill the missing values\n",
        "\n",
        "Q: your program reads a string like ex: \"_, _, x, _, _, _\" and returns the filled sequence\n",
        "\n",
        "Ex: \n",
        "<pre>\n",
        "Input1: \"_,_,_,24\"\n",
        "Output1: 6,6,6,6\n",
        "\n",
        "Input2: \"40,_,_,_,60\"\n",
        "Output2: 20,20,20,20,20\n",
        "\n",
        "Input3: \"80,_,_,_,_\"\n",
        "Output3: 16,16,16,16,16\n",
        "\n",
        "Input4: \"_,_,30,_,_,_,50,_,_\"\n",
        "Output4: 10,10,12,12,12,12,4,4,4\n",
        "\n",
        "</pre>\n",
        "\n"
      ]
    },
    {
      "cell_type": "code",
      "metadata": {
        "id": "nZmpzHs_B-k-",
        "colab": {
          "base_uri": "https://localhost:8080/"
        },
        "outputId": "93c06d47-f6a1-470c-e9f5-991d1b00e15d"
      },
      "source": [
        "def curve_smoothing(string):\n",
        "  s = string.split(',')\n",
        "  index = nextVal = end = endVal = 0\n",
        "  for i in range(0,len(s)):\n",
        "      index = i\n",
        "      if (s[i]!='_' or index+1==len(s)):\n",
        "        if(s[i]!='_'):\n",
        "          nextVal = int(s[i])\n",
        "        else:\n",
        "          nextVal = 0\n",
        "        f = (nextVal+endVal)/(index+1-end)\n",
        "        for j in range(end, index+1):\n",
        "          s[j] = int(f)\n",
        "        end = index\n",
        "        endVal = f\n",
        "      index+=1\n",
        "  return s\n",
        "\n",
        "S = [\"_,_,_,24\", \"40,_,_,_,60\", \"80,_,_,_,_\", \"_,_,30,_,_,_,50,_,_\"]\n",
        "a = []\n",
        "for i in S:\n",
        "  a.append(curve_smoothing(i))\n",
        "print(a)"
      ],
      "execution_count": null,
      "outputs": [
        {
          "output_type": "stream",
          "name": "stdout",
          "text": [
            "[[6, 6, 6, 6], [20, 20, 20, 20, 20], [16, 16, 16, 16, 16], [10, 10, 12, 12, 12, 12, 4, 4, 4]]\n"
          ]
        }
      ]
    },
    {
      "cell_type": "markdown",
      "metadata": {
        "id": "RBz4pzlfB-lB"
      },
      "source": [
        "<h3> Q8: Filling the missing values in the specified formate</h3>\n",
        "You will be given a list of lists, each sublist will be of length 2 i.e. [[x,y],[p,q],[l,m]..[r,s]]\n",
        "consider its like a martrix of n rows and two columns\n",
        "1. the first column F will contain only 5 uniques values (F1, F2, F3, F4, F5)\n",
        "2. the second column S will contain only 3 uniques values (S1, S2, S3)\n",
        "<pre>\n",
        "your task is to find\n",
        "a. Probability of P(F=F1|S==S1), P(F=F1|S==S2), P(F=F1|S==S3)\n",
        "b. Probability of P(F=F2|S==S1), P(F=F2|S==S2), P(F=F2|S==S3)\n",
        "c. Probability of P(F=F3|S==S1), P(F=F3|S==S2), P(F=F3|S==S3)\n",
        "d. Probability of P(F=F4|S==S1), P(F=F4|S==S2), P(F=F4|S==S3)\n",
        "e. Probability of P(F=F5|S==S1), P(F=F5|S==S2), P(F=F5|S==S3)\n",
        "</pre>\n",
        "Ex:\n",
        "\n",
        "<pre>\n",
        "[[F1,S1],[F2,S2],[F3,S3],[F1,S2],[F2,S3],[F3,S2],[F2,S1],[F4,S1],[F4,S3],[F5,S1]]\n",
        "\n",
        "a. P(F=F1|S==S1)=1/4, P(F=F1|S==S2)=1/3, P(F=F1|S==S3)=0/3\n",
        "b. P(F=F2|S==S1)=1/4, P(F=F2|S==S2)=1/3, P(F=F2|S==S3)=1/3\n",
        "c. P(F=F3|S==S1)=0/4, P(F=F3|S==S2)=1/3, P(F=F3|S==S3)=1/3\n",
        "d. P(F=F4|S==S1)=1/4, P(F=F4|S==S2)=0/3, P(F=F4|S==S3)=1/3\n",
        "e. P(F=F5|S==S1)=1/4, P(F=F5|S==S2)=0/3, P(F=F5|S==S3)=0/3\n",
        "</pre>\n",
        "\n",
        "\n"
      ]
    },
    {
      "cell_type": "code",
      "metadata": {
        "id": "e-1giz1MB-lC",
        "colab": {
          "base_uri": "https://localhost:8080/"
        },
        "outputId": "a12dcdf1-2667-4c5b-8fe8-cbe17ea6ed0c"
      },
      "source": [
        "def conditional_probabilites(F,S,A):\n",
        "  n = 0\n",
        "  d = 0\n",
        "  for i in A:\n",
        "    if(i[0]==F and i[1]==S):\n",
        "      n+=1\n",
        "    else:\n",
        "      continue\n",
        "  for i in A:\n",
        "    if(i[1]==S):\n",
        "      d+=1\n",
        "    else:\n",
        "      continue\n",
        "  return n,d\n",
        "  print('P(F={0}|S=={1})={2}/{3}'.format(F,S,n,d))\n",
        "\n",
        "def display(l1, l2, A):\n",
        "  for i in l1:\n",
        "    for j in l2:\n",
        "      n,d = conditional_probabilites(i,j,A)\n",
        "      print('P(F={0}|S=={1})={2}/{3}'.format(i,j,n,d))\n",
        "    print('-'*100)\n",
        "\n",
        "A = [['F1','S1'],['F2','S2'],['F3','S3'],['F1','S2'],['F2','S3'],['F3','S2'],['F2','S1'],['F4','S1'],['F4','S3'],['F5','S1']]\n",
        "s1 = set()\n",
        "for i in A:\n",
        "  s1.add(i[0])\n",
        "L1 = list(s1)\n",
        "L1.sort()\n",
        "s2 = set()\n",
        "for i in A:\n",
        "  s2.add(i[1])\n",
        "L2 = list(s2)\n",
        "L2.sort()\n",
        "display(L1, L2, A)"
      ],
      "execution_count": null,
      "outputs": [
        {
          "output_type": "stream",
          "name": "stdout",
          "text": [
            "P(F=F1|S==S1)=1/4\n",
            "P(F=F1|S==S2)=1/3\n",
            "P(F=F1|S==S3)=0/3\n",
            "----------------------------------------------------------------------------------------------------\n",
            "P(F=F2|S==S1)=1/4\n",
            "P(F=F2|S==S2)=1/3\n",
            "P(F=F2|S==S3)=1/3\n",
            "----------------------------------------------------------------------------------------------------\n",
            "P(F=F3|S==S1)=0/4\n",
            "P(F=F3|S==S2)=1/3\n",
            "P(F=F3|S==S3)=1/3\n",
            "----------------------------------------------------------------------------------------------------\n",
            "P(F=F4|S==S1)=1/4\n",
            "P(F=F4|S==S2)=0/3\n",
            "P(F=F4|S==S3)=1/3\n",
            "----------------------------------------------------------------------------------------------------\n",
            "P(F=F5|S==S1)=1/4\n",
            "P(F=F5|S==S2)=0/3\n",
            "P(F=F5|S==S3)=0/3\n",
            "----------------------------------------------------------------------------------------------------\n"
          ]
        }
      ]
    },
    {
      "cell_type": "markdown",
      "metadata": {
        "id": "n4HS87QmB-lF"
      },
      "source": [
        "<h3> Q9: Given two sentances S1, S2</h3>\n",
        "You will be given two sentances S1, S2 your task is to find \n",
        "<pre>\n",
        "a. Number of common words between S1, S2\n",
        "b. Words in S1 but not in S2\n",
        "c. Words in S2 but not in S1\n",
        "</pre>\n",
        "\n",
        "Ex: \n",
        "<pre>\n",
        "S1= \"the first column F will contain only 5 uniques values\"\n",
        "S2= \"the second column S will contain only 3 uniques values\"\n",
        "Output:\n",
        "a. 7\n",
        "b. ['first','F','5']\n",
        "c. ['second','S','3']\n",
        "</pre>"
      ]
    },
    {
      "cell_type": "code",
      "metadata": {
        "id": "Ez7hlHK0B-lG",
        "colab": {
          "base_uri": "https://localhost:8080/"
        },
        "outputId": "c81ad471-2201-478b-ba18-74815d592164"
      },
      "source": [
        "  def string_features(S1, S2):\n",
        "    s1 = set(S1.split())\n",
        "    s2 = set(S2.split())\n",
        "    a = len(s1&s2)\n",
        "    b = list(s1-s2)\n",
        "    c = list(s2-s1)      \n",
        "    return a, b, c\n",
        "\n",
        "S1= \"the first column F will contain only 5 uniques values\"\n",
        "S2= \"the second column S will contain only 3 uniques values\"\n",
        "a,b,c = string_features(S1, S2)\n",
        "print('a. ',a)\n",
        "print('b. ',b)\n",
        "print('c. ',c)"
      ],
      "execution_count": null,
      "outputs": [
        {
          "output_type": "stream",
          "name": "stdout",
          "text": [
            "a.  7\n",
            "b.  ['5', 'first', 'F']\n",
            "c.  ['second', 'S', '3']\n"
          ]
        }
      ]
    },
    {
      "cell_type": "markdown",
      "metadata": {
        "id": "XefXVEjCB-lI"
      },
      "source": [
        "<h3> Q10: Given two sentances S1, S2</h3>\n",
        "You will be given a list of lists, each sublist will be of length 2 i.e. [[x,y],[p,q],[l,m]..[r,s]]\n",
        "consider its like a martrix of n rows and two columns\n",
        "\n",
        "a. the first column Y will contain interger values <br>\n",
        "b. the second column $Y_{score}$ will be having float values <br>\n",
        "Your task is to find the value of $f(Y,Y_{score}) = -1*\\frac{1}{n}\\Sigma_{for each Y,Y_{score} pair}(Ylog10(Y_{score})+(1-Y)log10(1-Y_{score}))$ here n is the number of rows in the matrix\n",
        "<pre>\n",
        "Ex:\n",
        "[[1, 0.4], [0, 0.5], [0, 0.9], [0, 0.3], [0, 0.6], [1, 0.1], [1, 0.9], [1, 0.8]]\n",
        "output:\n",
        "0.4243099\n",
        "</pre>\n",
        "$\\frac{-1}{8}\\cdot((1\\cdot log_{10}(0.4)+0\\cdot log_{10}(0.6))+(0\\cdot log_{10}(0.5)+1\\cdot log_{10}(0.5)) + ... + (1\\cdot log_{10}(0.8)+0\\cdot log_{10}(0.2)) )$"
      ]
    },
    {
      "cell_type": "code",
      "metadata": {
        "id": "N9zkagyNB-lJ",
        "colab": {
          "base_uri": "https://localhost:8080/"
        },
        "outputId": "f7e7f838-70af-4992-c2bc-6fc078458f85"
      },
      "source": [
        "from math import log10\n",
        "def compute_log_loss(A):\n",
        "    temp = 0\n",
        "    for i in A:\n",
        "      y = i[0]\n",
        "      y1 = i[1]\n",
        "      temp += ((y*(log10(y1))) + ((1-y)*(log10(1-y1)))) \n",
        "    loss = 0-(temp/len(A))\n",
        "    return loss\n",
        "\n",
        "A = [[1, 0.4], [0, 0.5], [0, 0.9], [0, 0.3], [0, 0.6], [1, 0.1], [1, 0.9], [1, 0.8]]\n",
        "loss = compute_log_loss(A)\n",
        "print(loss)"
      ],
      "execution_count": null,
      "outputs": [
        {
          "output_type": "stream",
          "name": "stdout",
          "text": [
            "0.42430993457031635\n"
          ]
        }
      ]
    },
    {
      "cell_type": "code",
      "metadata": {
        "id": "bDH9y5Uiei2A"
      },
      "source": [
        ""
      ],
      "execution_count": null,
      "outputs": []
    }
  ]
}